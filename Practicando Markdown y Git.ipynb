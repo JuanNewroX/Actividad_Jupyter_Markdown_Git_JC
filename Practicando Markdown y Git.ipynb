{
 "cells": [
  {
   "cell_type": "markdown",
   "metadata": {},
   "source": [
    "#     Hoja de Trabajo No 1 \n",
    "##    Juan Carlos Romero \n",
    "###    Carnet: 21006035 "
   ]
  },
  {
   "cell_type": "markdown",
   "metadata": {},
   "source": [
    "**Definición**\n",
    "Git es un sistema de control de versiones para control edición y seguimiento de cambios en códigos que facilita la colaboración entre un equipo de trabajo.\n",
    "\n",
    "**Metadatos**\n",
    "Git mantiene en archivos llamados metadatos la informacion necesarias para identificar la versión, los mensaje del cambio realizado y quien realizo los cambios etc."
   ]
  },
  {
   "cell_type": "markdown",
   "metadata": {},
   "source": [
    "**Metadatos**\n",
    "1. Ir a https://git-scm.com/\n",
    "2. Buscar la seccion descargas\n",
    "3. Seleccionar la version compatible con nuestro sistema operativo\n",
    "4. Despues de instalar verificar la version"
   ]
  },
  {
   "cell_type": "markdown",
   "metadata": {},
   "source": [
    "#### Comandos"
   ]
  },
  {
   "cell_type": "markdown",
   "metadata": {},
   "source": [
    "##### Version de Git"
   ]
  },
  {
   "cell_type": "code",
   "execution_count": 42,
   "metadata": {},
   "outputs": [
    {
     "data": {
      "text/plain": [
       "['git version 2.21.0.windows.1']"
      ]
     },
     "execution_count": 42,
     "metadata": {},
     "output_type": "execute_result"
    }
   ],
   "source": [
    "%system git version"
   ]
  },
  {
   "cell_type": "markdown",
   "metadata": {},
   "source": [
    "##### Comando de ayuda"
   ]
  },
  {
   "cell_type": "code",
   "execution_count": 43,
   "metadata": {
    "scrolled": true
   },
   "outputs": [
    {
     "data": {
      "text/plain": [
       "[\"error: unknown option `version'\",\n",
       " 'usage: git help [--all] [--guides] [--man | --web | --info] [<command>]',\n",
       " '',\n",
       " '    -a, --all             print all available commands',\n",
       " '    -g, --guides          print list of useful guides',\n",
       " '    -c, --config          print all configuration variable names',\n",
       " '    -m, --man             show man page',\n",
       " '    -w, --web             show manual in web browser',\n",
       " '    -i, --info            show info page',\n",
       " '    -v, --verbose         print command description',\n",
       " '']"
      ]
     },
     "execution_count": 43,
     "metadata": {},
     "output_type": "execute_result"
    }
   ],
   "source": [
    "%system git help --version"
   ]
  },
  {
   "cell_type": "markdown",
   "metadata": {},
   "source": [
    "#### Iniciando con GIT"
   ]
  },
  {
   "cell_type": "markdown",
   "metadata": {},
   "source": [
    "**Create directorio**\n",
    "Creamos el directorio donde almaceneremos nuestro proyecto GIT\n",
    "1. Abrir cmd\n",
    "2. Crear directorio de trabajo\n",
    "2.1.  *MD Tarea1_Jupyter_Notebooks_Markdown_Git*\n",
    "3. Ir al directorio de trabajo\n",
    "2.2. *CD Tarea1_Jupyter_Notebooks_Markdown_Git*"
   ]
  },
  {
   "cell_type": "markdown",
   "metadata": {},
   "source": [
    "**Iniciando el repositorio**"
   ]
  },
  {
   "cell_type": "code",
   "execution_count": 1,
   "metadata": {},
   "outputs": [
    {
     "data": {
      "text/plain": [
       "['Initialized empty Git repository in C:/Users/CES-UVG/Documents/NewroX/Maestria DataScience/Ciencia de Datos en Python/Tarea1_Jupyter_Notebooks_Markdown_Git/.git/']"
      ]
     },
     "execution_count": 1,
     "metadata": {},
     "output_type": "execute_result"
    }
   ],
   "source": [
    "%system git init"
   ]
  },
  {
   "cell_type": "markdown",
   "metadata": {
    "scrolled": true
   },
   "source": [
    "![alt text](Carpeta_init_git.JPG \"Visualizacion del proyecto inicializado en Git\")\n"
   ]
  },
  {
   "cell_type": "markdown",
   "metadata": {},
   "source": [
    "Por ahora no hemos agregado ningun archivo para seguimiento, podemos verificar el estado de los archivo ejecuatando el comando status -s"
   ]
  },
  {
   "cell_type": "code",
   "execution_count": 3,
   "metadata": {},
   "outputs": [
    {
     "data": {
      "text/plain": [
       "['?? .ipynb_checkpoints/',\n",
       " '?? Carpeta_init_git.JPG',\n",
       " '?? Practicando Markdown y Git.ipynb']"
      ]
     },
     "execution_count": 3,
     "metadata": {},
     "output_type": "execute_result"
    }
   ],
   "source": [
    "%system git status -s"
   ]
  },
  {
   "cell_type": "markdown",
   "metadata": {},
   "source": [
    "El simbolo *??*  nos indica que los archivos no han sido agregados.\n",
    "Ahora procederemos a agregarlos para seguimisnto con el comando \"add\""
   ]
  },
  {
   "cell_type": "code",
   "execution_count": 4,
   "metadata": {},
   "outputs": [
    {
     "data": {
      "text/plain": [
       "['warning: LF will be replaced by CRLF in .ipynb_checkpoints/Practicando Markdown y Git JC-checkpoint.ipynb.',\n",
       " 'The file will have its original line endings in your working directory',\n",
       " 'warning: LF will be replaced by CRLF in .ipynb_checkpoints/Practicando Markdown y Git-checkpoint.ipynb.',\n",
       " 'The file will have its original line endings in your working directory']"
      ]
     },
     "execution_count": 4,
     "metadata": {},
     "output_type": "execute_result"
    }
   ],
   "source": [
    "%system git add Carpeta_init_git.JPG\n",
    "%system git add \"Practicando Markdown y Git.ipynb\"\n",
    "%system git add .ipynb_checkpoints/\n"
   ]
  },
  {
   "cell_type": "code",
   "execution_count": null,
   "metadata": {},
   "outputs": [],
   "source": []
  }
 ],
 "metadata": {
  "kernelspec": {
   "display_name": "Python 3",
   "language": "python",
   "name": "python3"
  },
  "language_info": {
   "codemirror_mode": {
    "name": "ipython",
    "version": 3
   },
   "file_extension": ".py",
   "mimetype": "text/x-python",
   "name": "python",
   "nbconvert_exporter": "python",
   "pygments_lexer": "ipython3",
   "version": "3.8.5"
  }
 },
 "nbformat": 4,
 "nbformat_minor": 4
}
