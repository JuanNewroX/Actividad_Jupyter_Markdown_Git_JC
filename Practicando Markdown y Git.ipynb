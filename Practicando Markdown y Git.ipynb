{
 "cells": [
  {
   "cell_type": "markdown",
   "metadata": {},
   "source": [
    "#     Hoja de Trabajo No 1 \n",
    "##    Juan Carlos Romero \n",
    "###    Carnet: 21006035 "
   ]
  },
  {
   "cell_type": "markdown",
   "metadata": {},
   "source": [
    "**Definición**\n",
    "Git es un sistema de control de versiones para control edición y seguimiento de cambios en códigos que facilita la colaboración entre un equipo de trabajo.\n",
    "\n",
    "**Metadatos**\n",
    "Git mantiene en archivos llamados metadatos la informacion necesarias para identificar la versión, los mensaje del cambio realizado y quien realizo los cambios etc."
   ]
  },
  {
   "cell_type": "markdown",
   "metadata": {},
   "source": [
    "**Metadatos**\n",
    "1. Ir a https://git-scm.com/\n",
    "2. Buscar la seccion descargas\n",
    "3. Seleccionar la version compatible con nuestro sistema operativo\n",
    "4. Despues de instalar verificar la version"
   ]
  },
  {
   "cell_type": "markdown",
   "metadata": {},
   "source": [
    "#### Comandos"
   ]
  },
  {
   "cell_type": "markdown",
   "metadata": {},
   "source": [
    "##### Version de Git"
   ]
  },
  {
   "cell_type": "code",
   "execution_count": 42,
   "metadata": {},
   "outputs": [
    {
     "data": {
      "text/plain": [
       "['git version 2.21.0.windows.1']"
      ]
     },
     "execution_count": 42,
     "metadata": {},
     "output_type": "execute_result"
    }
   ],
   "source": [
    "%system git version"
   ]
  },
  {
   "cell_type": "markdown",
   "metadata": {},
   "source": [
    "##### Comando de ayuda"
   ]
  },
  {
   "cell_type": "code",
   "execution_count": 43,
   "metadata": {
    "scrolled": true
   },
   "outputs": [
    {
     "data": {
      "text/plain": [
       "[\"error: unknown option `version'\",\n",
       " 'usage: git help [--all] [--guides] [--man | --web | --info] [<command>]',\n",
       " '',\n",
       " '    -a, --all             print all available commands',\n",
       " '    -g, --guides          print list of useful guides',\n",
       " '    -c, --config          print all configuration variable names',\n",
       " '    -m, --man             show man page',\n",
       " '    -w, --web             show manual in web browser',\n",
       " '    -i, --info            show info page',\n",
       " '    -v, --verbose         print command description',\n",
       " '']"
      ]
     },
     "execution_count": 43,
     "metadata": {},
     "output_type": "execute_result"
    }
   ],
   "source": [
    "%system git help --version"
   ]
  },
  {
   "cell_type": "markdown",
   "metadata": {},
   "source": [
    "#### Iniciando con GIT"
   ]
  },
  {
   "cell_type": "markdown",
   "metadata": {},
   "source": [
    "**Create directorio**\n",
    "Creamos el directorio donde almaceneremos nuestro proyecto GIT\n",
    "1. Abrir cmd\n",
    "2. Crear directorio de trabajo\n",
    "2.1.  *MD Tarea1_Jupyter_Notebooks_Markdown_Git*\n",
    "3. Ir al directorio de trabajo\n",
    "2.2. *CD Tarea1_Jupyter_Notebooks_Markdown_Git*"
   ]
  },
  {
   "cell_type": "markdown",
   "metadata": {},
   "source": [
    "**Iniciando el repositorio**"
   ]
  },
  {
   "cell_type": "code",
   "execution_count": 1,
   "metadata": {},
   "outputs": [
    {
     "data": {
      "text/plain": [
       "['Initialized empty Git repository in C:/Users/CES-UVG/Documents/NewroX/Maestria DataScience/Ciencia de Datos en Python/Tarea1_Jupyter_Notebooks_Markdown_Git/.git/']"
      ]
     },
     "execution_count": 1,
     "metadata": {},
     "output_type": "execute_result"
    }
   ],
   "source": [
    "%system git init"
   ]
  },
  {
   "cell_type": "markdown",
   "metadata": {
    "scrolled": true
   },
   "source": [
    "![alt text](Carpeta_init_git.JPG \"Visualizacion del proyecto inicializado en Git\")\n"
   ]
  },
  {
   "cell_type": "markdown",
   "metadata": {},
   "source": [
    "##### Verificando el status de nuestro repositorio\n",
    "Por ahora no hemos agregado ningun archivo para seguimiento, podemos verificar el estado de los archivo ejecuatando el comando status -s"
   ]
  },
  {
   "cell_type": "code",
   "execution_count": 3,
   "metadata": {},
   "outputs": [
    {
     "data": {
      "text/plain": [
       "['?? .ipynb_checkpoints/',\n",
       " '?? Carpeta_init_git.JPG',\n",
       " '?? Practicando Markdown y Git.ipynb']"
      ]
     },
     "execution_count": 3,
     "metadata": {},
     "output_type": "execute_result"
    }
   ],
   "source": [
    "%system git status -s"
   ]
  },
  {
   "cell_type": "markdown",
   "metadata": {},
   "source": [
    "##### Agregando nuestros archivos al area local de nuestro repositorio\n",
    "El simbolo *??*  nos indica que los archivos no han sido agregados al area temporal.\n",
    "Ahora procederemos a agregarlos para seguimisnto con el comando \"add\""
   ]
  },
  {
   "cell_type": "code",
   "execution_count": 6,
   "metadata": {},
   "outputs": [
    {
     "data": {
      "text/plain": [
       "[]"
      ]
     },
     "execution_count": 6,
     "metadata": {},
     "output_type": "execute_result"
    }
   ],
   "source": [
    "%system git add Carpeta_init_git.JPG"
   ]
  },
  {
   "cell_type": "code",
   "execution_count": 7,
   "metadata": {},
   "outputs": [
    {
     "data": {
      "text/plain": [
       "[]"
      ]
     },
     "execution_count": 7,
     "metadata": {},
     "output_type": "execute_result"
    }
   ],
   "source": [
    "%system git add \"Practicando Markdown y Git.ipynb\""
   ]
  },
  {
   "cell_type": "code",
   "execution_count": 8,
   "metadata": {},
   "outputs": [
    {
     "data": {
      "text/plain": [
       "['A  \".ipynb_checkpoints/Practicando Markdown y Git JC-checkpoint.ipynb\"',\n",
       " 'A  \".ipynb_checkpoints/Practicando Markdown y Git-checkpoint.ipynb\"',\n",
       " 'A  Carpeta_init_git.JPG',\n",
       " 'A  \"Practicando Markdown y Git.ipynb\"']"
      ]
     },
     "execution_count": 8,
     "metadata": {},
     "output_type": "execute_result"
    }
   ],
   "source": [
    "%system git status -s"
   ]
  },
  {
   "cell_type": "markdown",
   "metadata": {},
   "source": [
    "Al verificar el estado de los archivos nos aparece como **\"A\"** que significa que estan agregados.\n",
    "Los Archivos se han agregado al area local/temporal de nuestro repositorio. "
   ]
  },
  {
   "cell_type": "markdown",
   "metadata": {},
   "source": [
    "##### Tomando una instantanea de nuestros archivos\n",
    "Para hacer la primera copia (version) utilizamos el comando **Commit** seguido de la copia -m donde indicamos un mensaje para identificar el porque estamos creando esta version."
   ]
  },
  {
   "cell_type": "code",
   "execution_count": 9,
   "metadata": {},
   "outputs": [
    {
     "data": {
      "text/plain": [
       "['[master (root-commit) 2f81e6d] Agreamos por primera vez los archivo de nuestro proyecto',\n",
       " ' 4 files changed, 492 insertions(+)',\n",
       " ' create mode 100644 .ipynb_checkpoints/Practicando Markdown y Git JC-checkpoint.ipynb',\n",
       " ' create mode 100644 .ipynb_checkpoints/Practicando Markdown y Git-checkpoint.ipynb',\n",
       " ' create mode 100644 Carpeta_init_git.JPG',\n",
       " ' create mode 100644 Practicando Markdown y Git.ipynb']"
      ]
     },
     "execution_count": 9,
     "metadata": {},
     "output_type": "execute_result"
    }
   ],
   "source": [
    "%system git commit -m \"Agreamos por primera vez los archivo de nuestro proyecto\""
   ]
  },
  {
   "cell_type": "markdown",
   "metadata": {},
   "source": [
    "Ahora verificaremos el nuevo estado de nuestros archivos"
   ]
  },
  {
   "cell_type": "code",
   "execution_count": 11,
   "metadata": {},
   "outputs": [
    {
     "data": {
      "text/plain": [
       "[' M \"Practicando Markdown y Git.ipynb\"']"
      ]
     },
     "execution_count": 11,
     "metadata": {},
     "output_type": "execute_result"
    }
   ],
   "source": [
    "%system git status -s"
   ]
  },
  {
   "cell_type": "markdown",
   "metadata": {},
   "source": [
    "##### Agregando otro archivo\n",
    "\n",
    "1. Agregaremos un nuevo archivo a nuestro folder\n",
    "2. Agregaremos el archivo a git al area temporal\n",
    "3. Tomaremos una instantanea con el nuevo archivo "
   ]
  },
  {
   "cell_type": "code",
   "execution_count": 20,
   "metadata": {},
   "outputs": [
    {
     "data": {
      "text/plain": [
       "[]"
      ]
     },
     "execution_count": 20,
     "metadata": {},
     "output_type": "execute_result"
    }
   ],
   "source": [
    "%system echo About The Project Este es una practica para usar Git AUTOR Juancho Romero JuanNewroX file > README.txt "
   ]
  },
  {
   "cell_type": "code",
   "execution_count": 21,
   "metadata": {},
   "outputs": [
    {
     "data": {
      "text/plain": [
       "['MM \"Practicando Markdown y Git.ipynb\"', '?? README.txt']"
      ]
     },
     "execution_count": 21,
     "metadata": {},
     "output_type": "execute_result"
    }
   ],
   "source": [
    "%system git status -s"
   ]
  },
  {
   "cell_type": "markdown",
   "metadata": {},
   "source": [
    "* Con el commando *add* agregamos todos los archivos para seguimiento*"
   ]
  },
  {
   "cell_type": "code",
   "execution_count": 26,
   "metadata": {},
   "outputs": [
    {
     "data": {
      "text/plain": [
       "['warning: LF will be replaced by CRLF in Practicando Markdown y Git.ipynb.',\n",
       " 'The file will have its original line endings in your working directory']"
      ]
     },
     "execution_count": 26,
     "metadata": {},
     "output_type": "execute_result"
    }
   ],
   "source": [
    "%system git add ."
   ]
  },
  {
   "cell_type": "code",
   "execution_count": 27,
   "metadata": {},
   "outputs": [
    {
     "data": {
      "text/plain": [
       "['M  \"Practicando Markdown y Git.ipynb\"']"
      ]
     },
     "execution_count": 27,
     "metadata": {},
     "output_type": "execute_result"
    }
   ],
   "source": [
    "%system git status -s"
   ]
  },
  {
   "cell_type": "code",
   "execution_count": 28,
   "metadata": {},
   "outputs": [
    {
     "data": {
      "text/plain": [
       "['[master 3443619] Agreamos el archivo Readme.txt',\n",
       " ' 1 file changed, 55 insertions(+), 7 deletions(-)']"
      ]
     },
     "execution_count": 28,
     "metadata": {},
     "output_type": "execute_result"
    }
   ],
   "source": [
    "%system git commit -m \"Agreamos el archivo Readme.txt \""
   ]
  },
  {
   "cell_type": "markdown",
   "metadata": {},
   "source": [
    "##### Modificando un arcivo \n",
    "1. Modificamos el nuevo archivo a nuestro folder\n",
    "2. Agregaremos el archivo a git al area temporal\n",
    "3. Tomaremos una instantanea con la modificacion de archivo"
   ]
  },
  {
   "cell_type": "code",
   "execution_count": 29,
   "metadata": {},
   "outputs": [
    {
     "data": {
      "text/plain": [
       "[]"
      ]
     },
     "execution_count": 29,
     "metadata": {},
     "output_type": "execute_result"
    }
   ],
   "source": [
    "%system echo About The Project Este es una practica para usar Git AUTOR Juancho Romero JuanNewroX DATE 13 02 2020 file > README.txt "
   ]
  },
  {
   "cell_type": "code",
   "execution_count": 30,
   "metadata": {},
   "outputs": [
    {
     "data": {
      "text/plain": [
       "['warning: LF will be replaced by CRLF in Practicando Markdown y Git.ipynb.',\n",
       " 'The file will have its original line endings in your working directory']"
      ]
     },
     "execution_count": 30,
     "metadata": {},
     "output_type": "execute_result"
    }
   ],
   "source": [
    "%system git add ."
   ]
  },
  {
   "cell_type": "code",
   "execution_count": 31,
   "metadata": {},
   "outputs": [
    {
     "data": {
      "text/plain": [
       "['M  \"Practicando Markdown y Git.ipynb\"', 'M  README.txt']"
      ]
     },
     "execution_count": 31,
     "metadata": {},
     "output_type": "execute_result"
    }
   ],
   "source": [
    "%system git status -s"
   ]
  },
  {
   "cell_type": "code",
   "execution_count": 32,
   "metadata": {},
   "outputs": [
    {
     "data": {
      "text/plain": [
       "['[master 87213ee] Agregamos la fecha en el archivo Readme',\n",
       " ' 2 files changed, 42 insertions(+), 12 deletions(-)']"
      ]
     },
     "execution_count": 32,
     "metadata": {},
     "output_type": "execute_result"
    }
   ],
   "source": [
    "%system git commit -m \"Agregamos la fecha en el archivo Readme\""
   ]
  },
  {
   "cell_type": "markdown",
   "metadata": {},
   "source": [
    "##### Conociendo las instantaneas que hemos realizado\n",
    "Para conocer el listado de commit realizados utilizamos el comando *log --oneline*"
   ]
  },
  {
   "cell_type": "code",
   "execution_count": 33,
   "metadata": {},
   "outputs": [
    {
     "data": {
      "text/plain": [
       "['87213ee Agregamos la fecha en el archivo Readme',\n",
       " '3443619 Agreamos el archivo Readme.txt',\n",
       " 'f1bdc79 Agreamos el archivo Readme.txt',\n",
       " '2f81e6d Agreamos por primera vez los archivo de nuestro proyecto']"
      ]
     },
     "execution_count": 33,
     "metadata": {},
     "output_type": "execute_result"
    }
   ],
   "source": [
    "%system git log --oneline"
   ]
  },
  {
   "cell_type": "markdown",
   "metadata": {},
   "source": [
    "##### Regresando a una copia anterior\n",
    "Para ir a una copia anterior debemos utiliza el comando ** git reset --hard identificador *** El identificador es el que nos aparece en el listado del log"
   ]
  },
  {
   "cell_type": "code",
   "execution_count": 34,
   "metadata": {},
   "outputs": [
    {
     "data": {
      "text/plain": [
       "['HEAD is now at f1bdc79 Agreamos el archivo Readme.txt']"
      ]
     },
     "execution_count": 34,
     "metadata": {},
     "output_type": "execute_result"
    }
   ],
   "source": [
    "%system git reset --hard f1bdc79"
   ]
  },
  {
   "cell_type": "markdown",
   "metadata": {},
   "source": [
    "##### Hemos retrocedido en el tiempo!!!!"
   ]
  },
  {
   "cell_type": "markdown",
   "metadata": {},
   "source": [
    "Ahora queremos regresar a la ultima version, para ello ejecutamos el mismo comando con la ultima version del commit  "
   ]
  },
  {
   "cell_type": "code",
   "execution_count": 35,
   "metadata": {},
   "outputs": [
    {
     "data": {
      "text/plain": [
       "['HEAD is now at 2f81e6d Agreamos por primera vez los archivo de nuestro proyecto']"
      ]
     },
     "execution_count": 35,
     "metadata": {},
     "output_type": "execute_result"
    }
   ],
   "source": [
    "%system git reset --hard 2f81e6d "
   ]
  },
  {
   "cell_type": "markdown",
   "metadata": {},
   "source": [
    "##### Estamos en el presente!!!!"
   ]
  },
  {
   "cell_type": "markdown",
   "metadata": {},
   "source": [
    "#### Subiendo nuestro repositorio a la nube "
   ]
  },
  {
   "cell_type": "markdown",
   "metadata": {},
   "source": [
    "1. Para este paso crearemos una cuenta en GitHub [Link](https://github.com/, \"Github\")\n",
    "2. Seleccionamos la opcion crear nuevo repositorio\n",
    "![alt text](GutHub.JPG \"Crear nuevo repo\")\n",
    "3. Asignamos un nombre en este caso yo le asigne: \"HolaMundo_Jupyter_Markdown_Git_JC\"\n",
    "4. buscarmos el nombre del repositorio  \n",
    "5. Ejecutamos el comando **git remote add origin**, Para indicarle a Git que va a trabajar de forma remota. (Esto solo se hace una vez)\n",
    "6. Para sincronizar los commit locales en la nube ejecutamos el comando **git push -u origin master** *Nota es posible que nos pida el usuario y contraseña de nuestro GitHu*\n"
   ]
  },
  {
   "cell_type": "code",
   "execution_count": 43,
   "metadata": {},
   "outputs": [
    {
     "data": {
      "text/plain": [
       "['fatal: remote origin already exists.']"
      ]
     },
     "execution_count": 43,
     "metadata": {},
     "output_type": "execute_result"
    }
   ],
   "source": [
    "%system git remote add origin https://github.com/JuanNewroX/HolaMundo_Jupyter_Markdown_Git_JC.git"
   ]
  },
  {
   "cell_type": "code",
   "execution_count": 44,
   "metadata": {},
   "outputs": [
    {
     "data": {
      "text/plain": [
       "[]"
      ]
     },
     "execution_count": 44,
     "metadata": {},
     "output_type": "execute_result"
    }
   ],
   "source": [
    "%system git add ."
   ]
  },
  {
   "cell_type": "code",
   "execution_count": 45,
   "metadata": {},
   "outputs": [
    {
     "data": {
      "text/plain": [
       "['On branch master',\n",
       " \"Your branch is up to date with 'origin/master'.\",\n",
       " '',\n",
       " 'nothing to commit, working tree clean']"
      ]
     },
     "execution_count": 45,
     "metadata": {},
     "output_type": "execute_result"
    }
   ],
   "source": [
    "%system git commit -m \"Commit para Github\""
   ]
  },
  {
   "cell_type": "code",
   "execution_count": 46,
   "metadata": {},
   "outputs": [
    {
     "data": {
      "text/plain": [
       "[\"Branch 'master' set up to track remote branch 'master' from 'origin'.\",\n",
       " 'Everything up-to-date']"
      ]
     },
     "execution_count": 46,
     "metadata": {},
     "output_type": "execute_result"
    }
   ],
   "source": [
    "%system git push -u origin master"
   ]
  },
  {
   "cell_type": "code",
   "execution_count": null,
   "metadata": {},
   "outputs": [],
   "source": []
  }
 ],
 "metadata": {
  "kernelspec": {
   "display_name": "Python 3",
   "language": "python",
   "name": "python3"
  },
  "language_info": {
   "codemirror_mode": {
    "name": "ipython",
    "version": 3
   },
   "file_extension": ".py",
   "mimetype": "text/x-python",
   "name": "python",
   "nbconvert_exporter": "python",
   "pygments_lexer": "ipython3",
   "version": "3.8.5"
  }
 },
 "nbformat": 4,
 "nbformat_minor": 4
}
